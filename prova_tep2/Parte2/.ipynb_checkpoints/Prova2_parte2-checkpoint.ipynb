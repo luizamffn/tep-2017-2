{
 "cells": [
  {
   "cell_type": "markdown",
   "metadata": {},
   "source": [
    "## Questão 1 "
   ]
  },
  {
   "cell_type": "markdown",
   "metadata": {},
   "source": [
    "<b>a.Nome, descrição, volume de dados;</b>\n",
    "<br><b>Nome</b>: Thoracic Surgery Data Data Set\n",
    "<br><b>Descrição</b>: Os dados são dedicados ao problema de classificação relacionado à expectativa de vida pós-operatória nos pacientes com câncer de pulmão: classe 1 - morte dentro de um ano após a cirurgia, classe 2 - sobrevivência.\n",
    "<br><b>Volume de dados</b>: 470"
   ]
  },
  {
   "cell_type": "markdown",
   "metadata": {},
   "source": [
    "<b>b. Principais colunas e seus significados;</b>\n",
    "<br>PRE7: Dor antes da cirurgia \n",
    "<br>PRE8: Hemoptise antes da cirurgia \n",
    "<br>PRE9: Dispneia antes da cirurgia \n",
    "<br>PRE10: Tosse antes da cirurgia \n",
    "<br>PRE11: Fraqueza antes da cirurgia\n",
    "<br>PRE14: T no TNM clínico - tamanho do tumor original, de OC11 (menor) a OC14 (maior) (OC11, OC14, OC12, OC13) \n",
    "<br>PRE17: Tipo 2 DM - diabetes mellitus \n",
    "<br>PRE30: Fumar \n",
    "<br>PRE32: Asma \n",
    "<br>IDADE: Idade na cirurgia\n",
    "<br>Risco1Y: período de sobrevivência de 1 ano"
   ]
  },
  {
   "cell_type": "markdown",
   "metadata": {},
   "source": [
    "<b>c. Objetivo do dataset, qual o resultado esperado após os algoritmos</b>\n",
    "<br>Os dados são dedicados ao problema de classificação relacionado à expectativa de vida pós-operatória nos pacientes com câncer de pulmão: classe 1 - morte dentro de um ano após a cirurgia, classe 2 - sobrevivência.\n",
    "<br>O objetivo do algoritmo é verificar se a pessoa morreu ou sobreviveu 1 ano após a cirurgia"
   ]
  },
  {
   "cell_type": "markdown",
   "metadata": {},
   "source": [
    "## 2) Análise dos dados:\n",
    "<b>a. Tipos das colunas;</b>\n",
    "<br>DGN: Diagnóstico - combinação específica de códigos ICD-10 para tumores primários e secundários, também múltiplos, se houver (String) \n",
    "<br>PRE4: Capacidade vital forçada - FVC (float) \n",
    "<br>PRE5: Volume que foi exalado no final do primeiro segundo de expiração forçada - FEV1 (float) \n",
    "<br>PRE6: Status do desempenho - Escala Zubrod (String) \n",
    "<br>PRE7: Dor antes da cirurgia (T, F) boolean\n",
    "<br>PRE8: Hemoptise antes da cirurgia (T, F) boolean\n",
    "<br>PRE9: Dispneia antes da cirurgia (T, F) boolean\n",
    "<br>PRE10: Tosse antes da cirurgia (T, F) boolean\n",
    "<br>PRE11: Fraqueza antes da cirurgia (T, F) boolean\n",
    "<br>PRE14: T no TNM clínico - tamanho do tumor original, de OC11 (menor) a OC14 (maior) (OC11, OC14, OC12, OC13) (String)\n",
    "<br>PRE17: Tipo 2 DM - diabetes mellitus (T, F) boolean\n",
    "<br>PRE19: MI até 6 meses (T, F) boolean\n",
    "<br>PRE25: PAD - doenças arteriais periféricas (T, F) boolean\n",
    "<br>PRE30: Fumar (T , F) boolean\n",
    "<br>PRE32: Asma (T, F) boolean\n",
    "<br>IDADE: Idade na cirurgia (numérico) int\n",
    "<br>Risco1Y: período de sobrevivência de 1 ano - (T) valor da rua se morto (T, F) boolean\n"
   ]
  },
  {
   "cell_type": "markdown",
   "metadata": {},
   "source": [
    "<b>b. Campos nulos;</b>"
   ]
  },
  {
   "cell_type": "code",
   "execution_count": 225,
   "metadata": {
    "collapsed": true
   },
   "outputs": [],
   "source": [
    "import pandas as pd"
   ]
  },
  {
   "cell_type": "code",
   "execution_count": 226,
   "metadata": {
    "collapsed": true
   },
   "outputs": [],
   "source": [
    "train_df = pd.read_csv('dados.csv')"
   ]
  },
  {
   "cell_type": "code",
   "execution_count": 227,
   "metadata": {},
   "outputs": [
    {
     "name": "stdout",
     "output_type": "stream",
     "text": [
      "DGN 0\n",
      "PRE4 0\n",
      "PRE5 0\n",
      "PRE6 0\n",
      "PRE7 0\n",
      "PRE8 0\n",
      "PRE9 0\n",
      "PRE10 0\n",
      "PRE11 0\n",
      "PRE14 0\n",
      "PRE17 0\n",
      "PRE19 0\n",
      "PRE25 0\n",
      "PRE30 0\n",
      "PRE32 0\n",
      "AGE 0\n",
      "Risk1Yr 0\n"
     ]
    }
   ],
   "source": [
    "for field in train_df.columns:\n",
    "   print(field, train_df[field].isnull().sum())"
   ]
  },
  {
   "cell_type": "markdown",
   "metadata": {},
   "source": [
    "<b>c. Variáveis categóricas;</b>"
   ]
  },
  {
   "cell_type": "markdown",
   "metadata": {},
   "source": [
    "DGN: Diagnóstico - combinação específica de códigos ICD-10 para tumores primários e secundários, também múltiplos, se houver (String)<br>\n",
    "PRE6: Status do desempenho - Escala Zubrod (String)<br> \n",
    "PRE14: T no TNM clínico - tamanho do tumor original, de OC11 (menor) a OC14 (maior) (OC11, OC14, OC12, OC13) (String)"
   ]
  },
  {
   "cell_type": "markdown",
   "metadata": {},
   "source": [
    "<b>d. Campos novos criados com justificativa;</b> Não foi criado nenhum campo"
   ]
  },
  {
   "cell_type": "markdown",
   "metadata": {},
   "source": [
    "<b>e. Campos descartados com justificativa;</b> Campos floats"
   ]
  },
  {
   "cell_type": "code",
   "execution_count": 228,
   "metadata": {},
   "outputs": [],
   "source": [
    "train_df = train_df.drop(['PRE4','PRE5'], 1)"
   ]
  },
  {
   "cell_type": "markdown",
   "metadata": {},
   "source": [
    "<b>f. Conversões entre tipos de colunas;</b>"
   ]
  },
  {
   "cell_type": "code",
   "execution_count": 229,
   "metadata": {
    "collapsed": true
   },
   "outputs": [],
   "source": [
    "train_df['Risk1Yr'] = train_df['Risk1Yr'].map({'F':0, 'T':1,})"
   ]
  },
  {
   "cell_type": "code",
   "execution_count": 230,
   "metadata": {
    "collapsed": true
   },
   "outputs": [],
   "source": [
    "train_df['PRE11'] = train_df['PRE11'].map({'F':0, 'T':1,}) #Fraqueza antes da cirurgia"
   ]
  },
  {
   "cell_type": "code",
   "execution_count": 231,
   "metadata": {},
   "outputs": [],
   "source": [
    "#train_df['PRE4'] = train_df['PRE4'].map({'F':0, 'T':1,})\n",
    "#train_df['PRE5'] = train_df['PRE5'].map({'F':0, 'T':1,})\n",
    "#train_df['PRE6'] = train_df['PRE6'].map({'F':0, 'T':1,})\n",
    "#train_df['PRE32'] = train_df['PRE32'].map({'F':0, 'T':1,})\n",
    "\n",
    "for number in ['7', '8', '9', '10', '17', '19', '25', '30']:\n",
    "    column = \"PRE%s\" % number\n",
    "    train_df[column] = train_df[column].map({'F':0, 'T':1,})\n",
    "    \n"
   ]
  },
  {
   "cell_type": "markdown",
   "metadata": {},
   "source": [
    "<b>g. Apresente alguma técnica de análise não apresentada em sala até o momento;</b>"
   ]
  },
  {
   "cell_type": "markdown",
   "metadata": {},
   "source": [
    "<b>h. Analise, com APIs específicas, pelo menos 3 características relevantes dodataset e exiba gráficos a respeito.</b>"
   ]
  },
  {
   "cell_type": "code",
   "execution_count": 232,
   "metadata": {
    "collapsed": true
   },
   "outputs": [],
   "source": [
    "import matplotlib.pyplot as plt\n",
    "import seaborn as sns\n",
    "sns.set()\n",
    "%matplotlib inline"
   ]
  },
  {
   "cell_type": "code",
   "execution_count": 233,
   "metadata": {},
   "outputs": [
    {
     "data": {
      "image/png": "[encoded data removed]",
      "text/plain": [
       "<matplotlib.figure.Figure at 0x1a15d241a20>"
      ]
     },
     "metadata": {},
     "output_type": "display_data"
    }
   ],
   "source": [
    "age = sns.pairplot(train_df, hue=\"AGE\",vars=[\"AGE\", \"Risk1Yr\"]);\n",
    "#age = sns.pairplot(train_df, vars=[\"AGE\", \"PRE11\"]);"
   ]
  },
  {
   "cell_type": "markdown",
   "metadata": {
    "collapsed": true
   },
   "source": [
    "## 3) Execução dos algoritmos:"
   ]
  },
  {
   "cell_type": "markdown",
   "metadata": {},
   "source": [
    "<b>a. Listagem dos algoritmos aplicáveis;</b>"
   ]
  },
  {
   "cell_type": "markdown",
   "metadata": {},
   "source": [
    "MultinomialNB, AdaBoostClassifier, OneVsOne, OneVsRest, RandomForestClassifier"
   ]
  },
  {
   "cell_type": "markdown",
   "metadata": {},
   "source": [
    "<b>b. Escolha pelo menos um algoritmo ainda não visto na disciplina;</b>"
   ]
  },
  {
   "cell_type": "markdown",
   "metadata": {},
   "source": [
    "BernoulliNB"
   ]
  },
  {
   "cell_type": "markdown",
   "metadata": {},
   "source": [
    "<b>c. Configuração/parametrização dos algoritmos;</b>"
   ]
  },
  {
   "cell_type": "code",
   "execution_count": 234,
   "metadata": {
    "collapsed": true
   },
   "outputs": [],
   "source": [
    "dump_data = train_df[['DGN','PRE6', 'PRE7', 'PRE8', 'PRE9', 'PRE10', 'PRE11', 'PRE14', 'PRE17', 'PRE19', 'PRE25', 'PRE30', 'PRE32', 'AGE']]\n",
    "dump_answers = train_df['Risk1Yr']\n",
    "\n",
    "# variáveis categóricas\n",
    "data = pd.get_dummies(dump_data).values\n",
    "answers = dump_answers.values\n",
    "\n",
    "#definição de treino, teste e validação\n",
    "porcentagem_de_treino = 0.8\n",
    "porcentagem_de_teste = 0.1\n",
    "\n",
    "tamanho_de_treino = int(porcentagem_de_treino * len(answers))\n",
    "tamanho_de_teste = int(porcentagem_de_teste * len(answers))\n",
    "tamanho_de_validacao = len(answers) - tamanho_de_treino - tamanho_de_teste\n",
    "\n",
    "treino_dados = data[:tamanho_de_treino]\n",
    "treino_marcacoes = answers[:tamanho_de_treino]\n",
    "\n",
    "fim_de_treino = tamanho_de_treino + tamanho_de_teste\n",
    "\n",
    "teste_dados = data[tamanho_de_treino:fim_de_treino]\n",
    "teste_marcacoes = answers[tamanho_de_treino:fim_de_treino]\n",
    "\n",
    "validacao_dados = data[fim_de_treino:]\n",
    "validacao_marcacoes = answers[fim_de_treino:]\n",
    "\n",
    "def fit_and_predict(nome,modelo,treino_dados, treino_marcacoes,teste_dados, teste_marcacoes):\n",
    "    modelo.fit(treino_dados, treino_marcacoes)\n",
    "    resultado = modelo.predict(teste_dados)\n",
    "\n",
    "    #print(resultado)\n",
    "    # print(teste_marcacoes)\n",
    "\n",
    "    acertos = 0\n",
    "    tamanho = len(teste_marcacoes)\n",
    "    for i in range(tamanho):\n",
    "        if teste_marcacoes[i] == resultado[i]:\n",
    "            acertos = acertos + 1\n",
    "\n",
    "    print('%s: %.2f' % (nome, (acertos * 100/ tamanho)))"
   ]
  },
  {
   "cell_type": "code",
   "execution_count": 235,
   "metadata": {
    "collapsed": true
   },
   "outputs": [],
   "source": [
    "#train_df.dtypes"
   ]
  },
  {
   "cell_type": "markdown",
   "metadata": {},
   "source": [
    "<b>d. Uso de k-folding;</b>"
   ]
  },
  {
   "cell_type": "code",
   "execution_count": 236,
   "metadata": {},
   "outputs": [
    {
     "name": "stdout",
     "output_type": "stream",
     "text": [
      "MultinomialNB: 87.23\n",
      "AdaBoostClassifier: 82.98\n",
      "OneVsRest: 87.23\n",
      "OneVsOne: 87.23\n",
      "RandomForest: 85.11\n",
      "Bernoulli: 85.11\n",
      "------K_folding------\n",
      "MultinomialNB 80.87\n",
      "AdaBoost 80.32\n",
      "OneVsRest 72.57\n",
      "OneVsOne 72.57\n",
      "RandomForest 78.71\n",
      "Bernoulli 80.33\n"
     ]
    }
   ],
   "source": [
    "from sklearn.naive_bayes import MultinomialNB, BernoulliNB\n",
    "from sklearn.ensemble import AdaBoostClassifier, RandomForestClassifier\n",
    "from sklearn.svm import LinearSVC\n",
    "from sklearn.multiclass import OneVsRestClassifier,OneVsOneClassifier\n",
    "from sklearn.model_selection import cross_val_score\n",
    "import numpy as np\n",
    "\n",
    "modeloMultinomial = MultinomialNB()\n",
    "modeloAdaBoost = AdaBoostClassifier()\n",
    "modeloOneVsRest = OneVsRestClassifier(LinearSVC(random_state = 0))\n",
    "modeloOneVsOne = OneVsOneClassifier(LinearSVC(random_state = 0))\n",
    "modeloRandomForest = RandomForestClassifier()\n",
    "modeloBernoulli = BernoulliNB()\n",
    "\n",
    "fit_and_predict(\"MultinomialNB\", modeloMultinomial, treino_dados,treino_marcacoes, teste_dados, teste_marcacoes)\n",
    "\n",
    "fit_and_predict(\"AdaBoostClassifier\", modeloAdaBoost, treino_dados,treino_marcacoes, teste_dados, teste_marcacoes)\n",
    "\n",
    "resultadoOneVsRest = fit_and_predict(\"OneVsRest\", modeloOneVsRest,treino_dados, treino_marcacoes,teste_dados, teste_marcacoes)\n",
    "\n",
    "resultadoOneVsOne = fit_and_predict(\"OneVsOne\", modeloOneVsOne,treino_dados, treino_marcacoes,teste_dados, teste_marcacoes)\n",
    "\n",
    "fit_and_predict(\"RandomForest\", modeloRandomForest, treino_dados,treino_marcacoes, teste_dados, teste_marcacoes)\n",
    "\n",
    "fit_and_predict(\"Bernoulli\", modeloBernoulli, treino_dados,treino_marcacoes, teste_dados, teste_marcacoes)\n",
    "\n",
    "\n",
    "print('------K_folding------')\n",
    "def k_folding(k, nome, modelo, treino_dados, treino_marcacoes):\n",
    "    scores = cross_val_score(modelo,treino_dados,treino_marcacoes,cv = k)\n",
    "    print(\"%s %.2f\" %(nome,(np.mean(scores)*100.0)))\n",
    "\n",
    "k_folding(6, \"MultinomialNB\",modeloMultinomial, treino_dados, treino_marcacoes)\n",
    "k_folding(6, \"AdaBoost\",modeloAdaBoost, treino_dados, treino_marcacoes)\n",
    "k_folding(6, \"OneVsRest\",modeloOneVsRest, treino_dados, treino_marcacoes)\n",
    "k_folding(6, \"OneVsOne\",modeloOneVsOne, treino_dados, treino_marcacoes)\n",
    "k_folding(6, \"RandomForest\",modeloRandomForest, treino_dados, treino_marcacoes)\n",
    "k_folding(6, \"Bernoulli\",modeloBernoulli, treino_dados, treino_marcacoes)"
   ]
  },
  {
   "cell_type": "markdown",
   "metadata": {},
   "source": [
    "<b>e. Algoritmos que não se aplicam ao dataset;</b>"
   ]
  },
  {
   "cell_type": "markdown",
   "metadata": {},
   "source": [
    "<b>f. Tamanho dos dados de treino, teste e validação.</b>"
   ]
  },
  {
   "cell_type": "markdown",
   "metadata": {},
   "source": [
    "treino = 336 - 80%\n",
    "<br>teste = 42 - 10%\n",
    "<br>valdiacao = 42 - 10%"
   ]
  },
  {
   "cell_type": "markdown",
   "metadata": {},
   "source": [
    "## 4) Apresentação dos resultados:"
   ]
  },
  {
   "cell_type": "markdown",
   "metadata": {},
   "source": [
    "<b>a. Crie gráficos para comparar a performance dos algoritmos;</b>"
   ]
  },
  {
   "cell_type": "markdown",
   "metadata": {},
   "source": [
    "<b>b. Justifique os resultados</b>"
   ]
  },
  {
   "cell_type": "code",
   "execution_count": null,
   "metadata": {
    "collapsed": true
   },
   "outputs": [],
   "source": []
  }
 ],
 "metadata": {
  "kernelspec": {
   "display_name": "Python 3",
   "language": "python",
   "name": "python3"
  },
  "language_info": {
   "codemirror_mode": {
    "name": "ipython",
    "version": 3
   },
   "file_extension": ".py",
   "mimetype": "text/x-python",
   "name": "python",
   "nbconvert_exporter": "python",
   "pygments_lexer": "ipython3",
   "version": "3.6.3"
  }
 },
 "nbformat": 4,
 "nbformat_minor": 2
}
